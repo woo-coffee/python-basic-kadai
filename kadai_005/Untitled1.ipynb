{
  "nbformat": 4,
  "nbformat_minor": 0,
  "metadata": {
    "colab": {
      "provenance": []
    },
    "kernelspec": {
      "name": "python3",
      "display_name": "Python 3"
    },
    "language_info": {
      "name": "python"
    }
  },
  "cells": [
    {
      "cell_type": "code",
      "execution_count": null,
      "metadata": {
        "id": "ZXd5boTZXR4z"
      },
      "outputs": [],
      "source": [
        "abobe_cm = 10\n",
        "abobe_cm = 10\n",
        "down_cm = 20\n",
        "high = 5\n",
        "print(f\"{(abobe_cm + down_cm) * high / 2} ㎠\")"
      ]
    }
  ]
}