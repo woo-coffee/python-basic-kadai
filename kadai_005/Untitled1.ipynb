{
  "nbformat": 4,
  "nbformat_minor": 0,
  "metadata": {
    "colab": {
      "provenance": []
    },
    "kernelspec": {
      "name": "python3",
      "display_name": "Python 3"
    },
    "language_info": {
      "name": "python"
    }
  },
  "cells": [
    {
      "cell_type": "code",
      "execution_count": 1,
      "metadata": {
        "colab": {
          "base_uri": "https://localhost:8080/"
        },
        "id": "ZXd5boTZXR4z",
        "outputId": "397dbf5d-c16e-48e4-e360-ea658bb12421"
      },
      "outputs": [
        {
          "output_type": "stream",
          "name": "stdout",
          "text": [
            "75.0 ㎠\n"
          ]
        }
      ],
      "source": [
        "abobe_cm = 10\n",
        "abobe_cm = 10\n",
        "down_cm = 20\n",
        "high = 5\n",
        "trapezoid_name = (f\"{(abobe_cm + down_cm) * high / 2} cm²\")\n",
        "print(trapezoid_name)"
      ]
    }
  ]
}