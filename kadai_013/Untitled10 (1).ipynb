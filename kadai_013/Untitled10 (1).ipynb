{
  "nbformat": 4,
  "nbformat_minor": 0,
  "metadata": {
    "colab": {
      "provenance": []
    },
    "kernelspec": {
      "name": "python3",
      "display_name": "Python 3"
    },
    "language_info": {
      "name": "python"
    }
  },
  "cells": [
    {
      "cell_type": "code",
      "execution_count": 3,
      "metadata": {
        "colab": {
          "base_uri": "https://localhost:8080/"
        },
        "id": "II7OBB3__9VE",
        "outputId": "bc42814e-46b7-43c1-d2b5-ccca7d255a39"
      },
      "outputs": [
        {
          "output_type": "stream",
          "name": "stdout",
          "text": [
            "121.00000000000001円\n"
          ]
        }
      ],
      "source": [
        "def add_two_arguments(price, consumption_tax):\n",
        "  total = price * (1+consumption_tax/100)\n",
        "\n",
        "  print(f\"{total}円\")\n",
        "\n",
        "add_two_arguments(110, 10)\n"
      ]
    }
  ]
}