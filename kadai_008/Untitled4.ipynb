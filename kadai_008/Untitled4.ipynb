{
  "nbformat": 4,
  "nbformat_minor": 0,
  "metadata": {
    "colab": {
      "provenance": []
    },
    "kernelspec": {
      "name": "python3",
      "display_name": "Python 3"
    },
    "language_info": {
      "name": "python"
    }
  },
  "cells": [
    {
      "cell_type": "code",
      "execution_count": 8,
      "metadata": {
        "colab": {
          "base_uri": "https://localhost:8080/"
        },
        "id": "ubowF3uH1EVJ",
        "outputId": "58e753c2-65ab-4815-e0ae-faa2941a50f4"
      },
      "outputs": [
        {
          "output_type": "stream",
          "name": "stdout",
          "text": [
            "Fizz\n"
          ]
        }
      ],
      "source": [
        "var =\n",
        "\n",
        "if var % 3 == 0 and var % 5 == 0:\n",
        "\n",
        "  print(\"FizzBuzz\")\n",
        "\n",
        "elif var % 5 == 0:\n",
        "  print(\"Buzz\")\n",
        "\n",
        "elif var % 3 == 0:\n",
        "  print(\"Fizz\")\n",
        "\n",
        "else:\n",
        "  print(var)\n",
        "\n",
        "\n"
      ]
    }
  ]
}