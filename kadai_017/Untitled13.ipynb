{
  "nbformat": 4,
  "nbformat_minor": 0,
  "metadata": {
    "colab": {
      "provenance": []
    },
    "kernelspec": {
      "name": "python3",
      "display_name": "Python 3"
    },
    "language_info": {
      "name": "python"
    }
  },
  "cells": [
    {
      "cell_type": "code",
      "source": [
        "class Human:\n",
        "  def __init__(self, name, age):\n",
        "    self.name = name\n",
        "    self.age = age\n",
        "\n",
        "  def check_adult(self):\n",
        "    if self.age >= 20:\n",
        "      print(f\"{self.name}は大人です\")\n",
        "    else:\n",
        "      print(f\"{self.name}は大人ではありません\")\n",
        "\n",
        "# インスタンスを作成してリストに追加\n",
        "humans = [\n",
        "  Human(\"太郎\", 36),\n",
        "  Human(\"花子\", 19),\n",
        "  Human(\"次郎\", 22)\n",
        "]\n",
        "\n",
        "# 繰り返し処理で check_adult メソッドを呼び出す\n",
        "for human in humans:\n",
        "  human.check_adult()\n"
      ],
      "metadata": {
        "id": "1k6ILS3T-1sO",
        "outputId": "259187b9-d750-47cc-f06a-326753c93bdb",
        "colab": {
          "base_uri": "https://localhost:8080/"
        }
      },
      "execution_count": 13,
      "outputs": [
        {
          "output_type": "stream",
          "name": "stdout",
          "text": [
            "太郎は大人です\n",
            "花子は大人ではありません\n",
            "次郎は大人です\n"
          ]
        }
      ]
    }
  ]
}