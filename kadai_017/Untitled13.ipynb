{
  "nbformat": 4,
  "nbformat_minor": 0,
  "metadata": {
    "colab": {
      "provenance": []
    },
    "kernelspec": {
      "name": "python3",
      "display_name": "Python 3"
    },
    "language_info": {
      "name": "python"
    }
  },
  "cells": [
    {
      "cell_type": "code",
      "execution_count": 12,
      "metadata": {
        "colab": {
          "base_uri": "https://localhost:8080/"
        },
        "id": "GAP9snOG0P44",
        "outputId": "b5e1d8e6-8bc4-4fd2-c014-fedc9f4cd5aa"
      },
      "outputs": [
        {
          "output_type": "stream",
          "name": "stdout",
          "text": [
            "大人ではない\n"
          ]
        }
      ],
      "source": [
        "class Human:\n",
        "  def __init__(self, name, age):\n",
        "    self.name = name\n",
        "    self.age = age\n",
        "\n",
        "  def printinfo(self):\n",
        "    print(self.name)\n",
        "    print(self.age)\n",
        "\n",
        "human1 = Human(\"太郎\", 36)\n",
        "human2 = Human(\"花子\", 19)\n",
        "\n",
        "if human.age >= 20:\n",
        "  print(\"大人\")\n",
        "else:\n",
        "  print(\"大人ではない\")\n",
        "\n",
        "# human.printinfo()\n"
      ]
    }
  ]
}